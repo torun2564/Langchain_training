{
 "cells": [
  {
   "cell_type": "code",
   "execution_count": 7,
   "id": "3f5b7bc0-01a4-464e-b751-36ecb49307ae",
   "metadata": {},
   "outputs": [
    {
     "name": "stderr",
     "output_type": "stream",
     "text": [
      "C:\\Users\\USER\\anaconda3\\envs\\Py311\\Lib\\site-packages\\langchain_core\\_api\\deprecation.py:119: LangChainDeprecationWarning: The method `Chain.run` was deprecated in langchain 0.1.0 and will be removed in 0.2.0. Use invoke instead.\n",
      "  warn_deprecated(\n"
     ]
    },
    {
     "name": "stdout",
     "output_type": "stream",
     "text": [
      "\n",
      "\n",
      "\u001b[1m> Entering new AgentExecutor chain...\u001b[0m\n",
      "\u001b[32;1m\u001b[1;3mThought: I can use the WikipediaRetriever tool to look up information about ChatGPT and then write a summary to a file named result.txt.\n",
      "\n",
      "Action:\n",
      "```\n",
      "{\n",
      "  \"action\": \"WikipediaRetriever\",\n",
      "  \"action_input\": {\n",
      "    \"query\": \"ChatGPT\"\n",
      "  }\n",
      "}\n",
      "```\n",
      "\n",
      "\u001b[0m\n",
      "Observation: \u001b[33;1m\u001b[1;3mChatGPT（チャットジーピーティー、英語: Chat Generative Pre-trained Transformer）は、OpenAIが2022年11月に公開した人工知能チャットボットであり、生成AIの一種。\n",
      "GPTの原語のGenerative Pre-trained Transformerとは、「生成可能な事前学習済み変換器」という意味である。OpenAIのGPT-3ファミリーの大規模な言語モデルに基づいて構築されており、教師あり学習と強化学習の両方の手法を使って転移学習され、機械学習のサブセットである深層学習を使って開発されている。\n",
      "\n",
      "\n",
      "== 概要 ==\n",
      "2022年11月30日にプロトタイプとして公開され、幅広い分野の質問に詳細な回答を生成できることから注目を集めた。しかし、人間が自然と感じる回答の生成を特徴としていることから、一見自然に見えるが事実とは異なる回答を生成することもあり、大きな欠点とされた。例としては、Wikipedia:削除された悪ふざけとナンセンスの中にあるラムセス12世という記事がある。このページのノートには、「ラムセス12世は実在せず、ChatGPT\u001b[0m\n",
      "Thought:\u001b[32;1m\u001b[1;3m```\n",
      "{\n",
      "  \"action\": \"write_file\",\n",
      "  \"action_input\": {\n",
      "    \"file_path\": \"result.txt\",\n",
      "    \"text\": \"ChatGPT（チャットジーピーティー、英語: Chat Generative Pre-trained Transformer）は、OpenAIが2022年11月に公開した人工知能チャットボットであり、生成AIの一種。GPTの原語のGenerative Pre-trained Transformerとは、「生成可能な事前学習済み変換器」という意味である。OpenAIのGPT-3ファミリーの大規模な言語モデルに基づいて構築されており、教師あり学習と強化学習の両方の手法を使って転移学習され、機械学習のサブセットである深層学習を使って開発されている。\\n\\n2022年11月30日にプロトタイプとして公開され、幅広い分野の質問に詳細な回答を生成できることから注目を集めた。しかし、人間が自然と感じる回答の生成を特徴としていることから、一見自然に見えるが事実とは異なる回答を生成することもあり、大きな欠点とされた。例としては、Wikipedia:削除された悪ふざけとナンセンスの中にあるラムセス12世という記事がある。このページのノートには、「ラムセス12世は実在せず、ChatGPT\",\n",
      "    \"append\": false\n",
      "  }\n",
      "}\n",
      "```\u001b[0m\n",
      "Observation: \u001b[36;1m\u001b[1;3mFile written successfully to result.txt.\u001b[0m\n",
      "Thought:\u001b[32;1m\u001b[1;3m```\n",
      "{\n",
      "  \"action\": \"Final Answer\",\n",
      "  \"action_input\": \"概要がresult.txtに保存されました。\"\n",
      "}\n",
      "```\u001b[0m\n",
      "\n",
      "\u001b[1m> Finished chain.\u001b[0m\n",
      "実行結果: 概要がresult.txtに保存されました。\n"
     ]
    }
   ],
   "source": [
    "from langchain.agents import AgentType, Tool, initialize_agent\n",
    "from langchain.agents.agent_toolkits import create_retriever_tool\n",
    "from langchain_openai import ChatOpenAI\n",
    "from langchain.retrievers import WikipediaRetriever\n",
    "from langchain.tools import WriteFileTool\n",
    "\n",
    "### ChatGPTモデルの指定\n",
    "chat = ChatOpenAI(\n",
    "    temperature=0,\n",
    "    model=\"gpt-3.5-turbo\",\n",
    ")\n",
    "\n",
    "### toolの設定\n",
    "tools = [] # 初期化\n",
    "tools.append(WriteFileTool(root_dir=\"./\")) # ファイル書き込み用のtoolを追加\n",
    "\n",
    "# Retrieverの設定\n",
    "retriever = WikipediaRetriever(\n",
    "    lang=\"ja\",\n",
    "    doc_content_chars_max=500,\n",
    "    top_k_results=1\n",
    ")\n",
    "\n",
    "# WikipediaRetrieverをtool化\n",
    "tools.append(create_retriever_tool(\n",
    "    name=\"WikipediaRetriever\",\n",
    "    description=\"受け取った単語に関するWikipediaの記事を取得できる\",\n",
    "    retriever=retriever,\n",
    "))\n",
    "\n",
    "### agentを設定\n",
    "agent = initialize_agent(\n",
    "    tools,\n",
    "    chat,\n",
    "    agent=AgentType.STRUCTURED_CHAT_ZERO_SHOT_REACT_DESCRIPTION,\n",
    "    verbose=True,\n",
    ")\n",
    "\n",
    "result = agent.run(\"ChatGPTについてWikipediaで調べて概要にまとめ、日本語でresult.txtというファイルに保存してください。\")\n",
    "print(f\"実行結果: {result}\")"
   ]
  },
  {
   "cell_type": "code",
   "execution_count": 1,
   "id": "2e4950cf-abd5-4d6c-9f4e-67926a5f21e6",
   "metadata": {},
   "outputs": [
    {
     "name": "stderr",
     "output_type": "stream",
     "text": [
      "C:\\Users\\USER\\anaconda3\\envs\\Py311\\Lib\\site-packages\\langchain_core\\_api\\deprecation.py:119: LangChainDeprecationWarning: The function `initialize_agent` was deprecated in LangChain 0.1.0 and will be removed in 0.2.0. Use Use new agent constructor methods like create_react_agent, create_json_agent, create_structured_chat_agent, etc. instead.\n",
      "  warn_deprecated(\n",
      "C:\\Users\\USER\\anaconda3\\envs\\Py311\\Lib\\site-packages\\langchain_core\\_api\\deprecation.py:119: LangChainDeprecationWarning: The method `Chain.run` was deprecated in langchain 0.1.0 and will be removed in 0.2.0. Use invoke instead.\n",
      "  warn_deprecated(\n"
     ]
    },
    {
     "name": "stdout",
     "output_type": "stream",
     "text": [
      "\n",
      "\n",
      "\u001b[1m> Entering new AgentExecutor chain...\u001b[0m\n",
      "\u001b[32;1m\u001b[1;3m```json\n",
      "{\n",
      "    \"action\": \"WikipediaRetriever\",\n",
      "    \"action_input\": \"日産シルエイティ\"\n",
      "}\n",
      "```\u001b[0m\n",
      "Observation: \u001b[36;1m\u001b[1;3mシルエイティ(Sileighty)とは、日産・180SXの車体に日産・シルビアの前部を接合した車両の通称である。いわゆる顔面スワップと呼ばれる改造の代表例として知られる。\n",
      "なお、シルエイティなる名称はもとは正式な車種名でなく通称であり、正式な名称はあくまで180SXだが、日産自動車によって商標登録され（登録番号第5118200号）、正式な車種名としての「シルエイティ」も存在する（詳細は後述）。\n",
      "\n",
      "\n",
      "== 概要 ==\n",
      "S13型シルビアと180SXは別車種だが車両型式は同じ「S13」であり、基本構造を共有する姉妹車の関係にある。それゆえパーツの互換性が高く、流用が比較的容易に行える。\n",
      "この特徴をうまく利用したものがシルエイティと呼ばれる車両で、ある走り屋が180SXの前部を破損した際に、「リトラクタブル・ヘッドライトは修理するのに部品代が高くつくため、台数が多く部品代の安い姉妹車のシルビアの前部を使ったらどうだろうか」という発想をしたことが原点とも、フロントヘビーとなるリトラクタブルヘッドライトを取り払うことで、フロントを軽量化することを目的としたものとも言われる。\n",
      "1993年にシルビアは\u001b[0m\n",
      "Thought:\u001b[32;1m\u001b[1;3m```json\n",
      "{\n",
      "    \"action\": \"Final Answer\",\n",
      "    \"action_input\": \"シルエイティ(Sileighty)とは、日産・180SXの車体に日産・シルビアの前部を接合した車両の通称であり、いわゆる顔面スワップと呼ばれる改造の代表例として知られる。シルエイティなる名称はもとは正式な車種名でなく通称であり、正式な名称はあくまで180SXだが、日産自動車によって商標登録され、正式な車種名としての「シルエイティ」も存在する。S13型シルビアと180SXは別車種だが車両型式は同じ「S13」であり、基本構造を共有する姉妹車の関係にある。それゆえパーツの互換性が高く、流用が比較的容易に行える。この特徴をうまく利用したものがシルエイティと呼ばれる車両で、ある走り屋が180SXの前部を破損した際に、「リトラクタブル・ヘッドライトは修理するのに部品代が高くつくため、台数が多く部品代の安い姉妹車のシルビアの前部を使ったらどうだろうか」という発想をしたことが原点とも、フロントヘビーとなるリトラクタブルヘッドライトを取り払うことで、フロントを軽量化することを目的としたものとも言われる。\"\n",
      "}\n",
      "```\u001b[0m\n",
      "\n",
      "\u001b[1m> Finished chain.\u001b[0m\n",
      "実行結果: シルエイティ(Sileighty)とは、日産・180SXの車体に日産・シルビアの前部を接合した車両の通称であり、いわゆる顔面スワップと呼ばれる改造の代表例として知られる。シルエイティなる名称はもとは正式な車種名でなく通称であり、正式な名称はあくまで180SXだが、日産自動車によって商標登録され、正式な車種名としての「シルエイティ」も存在する。S13型シルビアと180SXは別車種だが車両型式は同じ「S13」であり、基本構造を共有する姉妹車の関係にある。それゆえパーツの互換性が高く、流用が比較的容易に行える。この特徴をうまく利用したものがシルエイティと呼ばれる車両で、ある走り屋が180SXの前部を破損した際に、「リトラクタブル・ヘッドライトは修理するのに部品代が高くつくため、台数が多く部品代の安い姉妹車のシルビアの前部を使ったらどうだろうか」という発想をしたことが原点とも、フロントヘビーとなるリトラクタブルヘッドライトを取り払うことで、フロントを軽量化することを目的としたものとも言われる。\n"
     ]
    }
   ],
   "source": [
    "from langchain.agents import AgentType, Tool, initialize_agent\n",
    "from langchain.agents.agent_toolkits import create_retriever_tool\n",
    "from langchain_openai import ChatOpenAI\n",
    "from langchain.retrievers import WikipediaRetriever\n",
    "from langchain.tools import WriteFileTool\n",
    "from langchain.memory import ConversationBufferMemory\n",
    "\n",
    "### ChatGPTモデルの指定\n",
    "chat = ChatOpenAI(\n",
    "    temperature=0,\n",
    "    model=\"gpt-3.5-turbo\",\n",
    ")\n",
    "\n",
    "### toolの設定\n",
    "tools = [] # 初期化\n",
    "\n",
    "# Retrieverの設定\n",
    "retriever = WikipediaRetriever(\n",
    "    lang=\"ja\",\n",
    "    doc_content_chars_max=500,\n",
    "    top_k_results=1\n",
    ")\n",
    "\n",
    "# WikipediaRetrieverをtool化\n",
    "tools.append(create_retriever_tool(\n",
    "    name=\"WikipediaRetriever\",\n",
    "    description=\"受け取った単語に関するWikipediaの記事を取得できる\",\n",
    "    retriever=retriever,\n",
    "))\n",
    "\n",
    "### Memory機能の設定\n",
    "memory = ConversationBufferMemory(\n",
    "    memory_key=\"chat_history\",\n",
    "    return_messages=True, # メッセージを返すように設定\n",
    ")\n",
    "\n",
    "### agentを設定\n",
    "agent = initialize_agent(\n",
    "    tools,\n",
    "    chat,\n",
    "    agent=AgentType.CHAT_CONVERSATIONAL_REACT_DESCRIPTION,\n",
    "    memory=memory,\n",
    "    verbose=True,\n",
    ")\n",
    "\n",
    "result = agent.run(\"日産シルエイティについてWikipediaで調べて概要を日本語で簡潔にまとめてください。\")\n",
    "print(f\"実行結果: {result}\")"
   ]
  },
  {
   "cell_type": "code",
   "execution_count": 2,
   "id": "e6a5cdfc-54e5-4019-8578-cf9f2470c81d",
   "metadata": {},
   "outputs": [
    {
     "name": "stdout",
     "output_type": "stream",
     "text": [
      "\n",
      "\n",
      "\u001b[1m> Entering new AgentExecutor chain...\u001b[0m\n",
      "\u001b[32;1m\u001b[1;3m```json\n",
      "{\n",
      "    \"action\": \"Final Answer\",\n",
      "    \"action_input\": \"以前の指示をもう一度実行してください\"\n",
      "}\n",
      "```\u001b[0m\n",
      "\n",
      "\u001b[1m> Finished chain.\u001b[0m\n",
      "2回目の実行結果 : 以前の指示をもう一度実行してください\n"
     ]
    }
   ],
   "source": [
    "result_2 = agent.run(\"以前の指示をもう一度実行してください\")\n",
    "print(f\"2回目の実行結果 : {result_2}\")"
   ]
  },
  {
   "cell_type": "code",
   "execution_count": 3,
   "id": "9b5836c8-9a43-45c8-8759-2bf450addb5a",
   "metadata": {},
   "outputs": [
    {
     "data": {
      "text/plain": [
       "'シルエイティ(Sileighty)とは、日産・180SXの車体に日産・シルビアの前部を接合した車両の通称であり、いわゆる顔面スワップと呼ばれる改造の代表例として知られる。シルエイティなる名称はもとは正式な車種名でなく通称であり、正式な名称はあくまで180SXだが、日産自動車によって商標登録され、正式な車種名としての「シルエイティ」も存在する。S13型シルビアと180SXは別車種だが車両型式は同じ「S13」であり、基本構造を共有する姉妹車の関係にある。それゆえパーツの互換性が高く、流用が比較的容易に行える。この特徴をうまく利用したものがシルエイティと呼ばれる車両で、ある走り屋が180SXの前部を破損した際に、「リトラクタブル・ヘッドライトは修理するのに部品代が高くつくため、台数が多く部品代の安い姉妹車のシルビアの前部を使ったらどうだろうか」という発想をしたことが原点とも、フロントヘビーとなるリトラクタブルヘッドライトを取り払うことで、フロントを軽量化することを目的としたものとも言われる。'"
      ]
     },
     "execution_count": 3,
     "metadata": {},
     "output_type": "execute_result"
    }
   ],
   "source": [
    "memory.chat_memory.messages[1].content"
   ]
  },
  {
   "cell_type": "code",
   "execution_count": null,
   "id": "1eceac3c-f3dc-4d3b-9337-40e66f31c082",
   "metadata": {},
   "outputs": [],
   "source": []
  }
 ],
 "metadata": {
  "kernelspec": {
   "display_name": "Python 3 (ipykernel)",
   "language": "python",
   "name": "python3"
  },
  "language_info": {
   "codemirror_mode": {
    "name": "ipython",
    "version": 3
   },
   "file_extension": ".py",
   "mimetype": "text/x-python",
   "name": "python",
   "nbconvert_exporter": "python",
   "pygments_lexer": "ipython3",
   "version": "3.11.5"
  }
 },
 "nbformat": 4,
 "nbformat_minor": 5
}
