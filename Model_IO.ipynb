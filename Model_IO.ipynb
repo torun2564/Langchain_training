{
 "cells": [
  {
   "cell_type": "code",
   "execution_count": 1,
   "id": "5b25e9f1-aff1-4bf8-82ce-f673788dd2d4",
   "metadata": {},
   "outputs": [],
   "source": [
    "from langchain import PromptTemplate\n",
    "from langchain.chat_models import ChatOpenAI\n",
    "from langchain.schema import HumanMessage, SystemMessage"
   ]
  },
  {
   "cell_type": "code",
   "execution_count": 6,
   "id": "f3de9fed-a921-44cf-bfb3-128936460c78",
   "metadata": {},
   "outputs": [],
   "source": [
    "chat = ChatOpenAI(\n",
    "    model = \"gpt-3.5-turbo\",\n",
    ")\n",
    "\n",
    "prompt = PromptTemplate(\n",
    "    template = \"{product}と{product2}はどこの会社が開発した製品ですか？\",\n",
    "    input_variables = [\"product\", \"product2\"]\n",
    ")\n",
    "\n",
    "result = chat([\n",
    "    SystemMessage(content=\"あなたは親しい友人です。返答は敬語を使わず、フランクに会話してください。\"),\n",
    "    HumanMessage(content=prompt.format(product=\"iPhone\", product2=\"プリウス\")),\n",
    "])"
   ]
  },
  {
   "cell_type": "code",
   "execution_count": 8,
   "id": "23a2a759-496f-4c5d-9a6e-a567ad352d60",
   "metadata": {},
   "outputs": [
    {
     "name": "stdout",
     "output_type": "stream",
     "text": [
      "iPhoneはAppleが開発した製品で、プリウスはToyotaが開発した製品だよ。どちらも人気があるね！\n"
     ]
    }
   ],
   "source": [
    "print(result.content)"
   ]
  },
  {
   "cell_type": "markdown",
   "id": "57630c9a-8d70-4538-b22a-17e8bd8236d2",
   "metadata": {},
   "source": [
    "# プロンプトをJSONファイルに保存＆呼び出し"
   ]
  },
  {
   "cell_type": "code",
   "execution_count": 9,
   "id": "56cae137-a6bb-43bb-b684-b20e7099e9f7",
   "metadata": {},
   "outputs": [],
   "source": [
    "prompt_json = prompt.save(\"prompt.json\")"
   ]
  },
  {
   "cell_type": "code",
   "execution_count": 10,
   "id": "b3e988fd-0373-4ae2-b841-01b0e1c4d03c",
   "metadata": {},
   "outputs": [
    {
     "name": "stdout",
     "output_type": "stream",
     "text": [
      "SuicaとPasmoはどこの会社が開発した製品ですか？\n"
     ]
    }
   ],
   "source": [
    "from langchain.prompts import load_prompt\n",
    "loaded_prompt = load_prompt(\"prompt.json\")\n",
    "print(loaded_prompt.format(product=\"Suica\", product2=\"Pasmo\"))"
   ]
  },
  {
   "cell_type": "markdown",
   "id": "bb7812f2-37b3-491d-8436-07ccdc693429",
   "metadata": {},
   "source": [
    "# リスト形式で結果を受け取る"
   ]
  },
  {
   "cell_type": "code",
   "execution_count": 13,
   "id": "2c04a8d7-1865-4c14-a474-a3083680bf34",
   "metadata": {},
   "outputs": [],
   "source": [
    "from langchain.output_parsers import CommaSeparatedListOutputParser\n",
    "\n",
    "output_parser = CommaSeparatedListOutputParser() # 初期化\n",
    "\n",
    "chat = ChatOpenAI(model = \"gpt-3.5-turbo\")\n",
    "\n",
    "prompt = PromptTemplate(\n",
    "    template = \"{company}が開発した代表的な製品を5つ教えてください\",\n",
    "    input_variables = [\"company\"]\n",
    ")\n",
    "\n",
    "result = chat([\n",
    "    SystemMessage(content=\"あなたはとても優秀なAIです。\"),\n",
    "    HumanMessage(content=prompt.format(company=\"トヨタ\")),\n",
    "    HumanMessage(content=output_parser.get_format_instructions()),\n",
    "])"
   ]
  },
  {
   "cell_type": "code",
   "execution_count": 16,
   "id": "b9a22936-3bc4-4585-bf44-646a449ef796",
   "metadata": {},
   "outputs": [
    {
     "data": {
      "text/plain": [
       "['Prius', 'Corolla', 'Camry', 'RAV4', 'Land Cruiser']"
      ]
     },
     "execution_count": 16,
     "metadata": {},
     "output_type": "execute_result"
    }
   ],
   "source": [
    "output_parser.parse(result.content)"
   ]
  },
  {
   "cell_type": "markdown",
   "id": "d070cced-0016-487d-839c-cc4176e6d370",
   "metadata": {},
   "source": [
    "# LLMsを使って文章の続きを予測"
   ]
  },
  {
   "cell_type": "code",
   "execution_count": 19,
   "id": "109bac6f-107a-429d-a8e7-4955f9e54542",
   "metadata": {},
   "outputs": [
    {
     "name": "stdout",
     "output_type": "stream",
     "text": [
      "おにぎりを食べました\n"
     ]
    }
   ],
   "source": [
    "from langchain.llms import OpenAI\n",
    "\n",
    "llm = OpenAI(model=\"gpt-3.5-turbo-instruct\")\n",
    "\n",
    "result = llm(\n",
    "    \"今日は朝ごはんに\",\n",
    "    stop=\"。\"\n",
    ")\n",
    "\n",
    "print(result)"
   ]
  },
  {
   "cell_type": "markdown",
   "id": "1d075d22-c306-45a9-8b4b-3f0659a1753c",
   "metadata": {},
   "source": [
    "# 結果を逐次表示させる"
   ]
  },
  {
   "cell_type": "code",
   "execution_count": 22,
   "id": "673ef0b5-bfe3-473c-aa74-d9acd1c90bc6",
   "metadata": {},
   "outputs": [
    {
     "name": "stdout",
     "output_type": "stream",
     "text": [
      "たこ焼きの作り方は以下の通りです：\n",
      "\n",
      "材料：\n",
      "- たこ焼き粉 200g\n",
      "- だし汁 400ml\n",
      "- 卵 1個\n",
      "- たこ（小口切り） 100g\n",
      "- 紅ショウガ（刻んだもの） 適量\n",
      "- 青のり 適量\n",
      "- かつお節 適量\n",
      "- 天かす 適量\n",
      "- ソース（お好みで）\n",
      "\n",
      "作り方：\n",
      "1. ボウルにたこ焼き粉を入れ、だし汁を少しずつ加えながら混ぜる。卵も加えてよく混ぜる。\n",
      "2. たこや紅ショウガを入れ、全体を混ぜる。\n",
      "3. たこ焼き器を予熱し、少量の油を塗る。\n",
      "4. 混ぜた生地をたこ焼き器の穴に流し入れ、たこ焼きを焼く。\n",
      "5. たこ焼きが焼けたら、竹串などでひっくり返し、裏返して焼く。\n",
      "6. たこ焼きがふっくらと焼けたら、青のり、かつお節、天かすなどをトッピングする。\n",
      "7. ソースをかけて完成。\n",
      "\n",
      "お好みでマヨネーズや青海苔などをトッピングしても美味しいです。ぜひお試しください！"
     ]
    }
   ],
   "source": [
    "from langchain.callbacks.streaming_stdout import StreamingStdOutCallbackHandler\n",
    "\n",
    "chat = ChatOpenAI(\n",
    "    model = \"gpt-3.5-turbo\",\n",
    "    streaming=True,\n",
    "    callbacks=[StreamingStdOutCallbackHandler()]\n",
    ")\n",
    "\n",
    "resp = chat([\n",
    "    HumanMessage(content=\"おいしいたこ焼きの作り方を教えて\")\n",
    "])"
   ]
  },
  {
   "cell_type": "code",
   "execution_count": 24,
   "id": "71bfeb6a-fee2-49f6-83a1-32ee7bb412fb",
   "metadata": {},
   "outputs": [
    {
     "data": {
      "text/plain": [
       "'たこ焼きの作り方は以下の通りです：\\n\\n材料：\\n- たこ焼き粉 200g\\n- だし汁 400ml\\n- 卵 1個\\n- たこ（小口切り） 100g\\n- 紅ショウガ（刻んだもの） 適量\\n- 青のり 適量\\n- かつお節 適量\\n- 天かす 適量\\n- ソース（お好みで）\\n\\n作り方：\\n1. ボウルにたこ焼き粉を入れ、だし汁を少しずつ加えながら混ぜる。卵も加えてよく混ぜる。\\n2. たこや紅ショウガを入れ、全体を混ぜる。\\n3. たこ焼き器を予熱し、少量の油を塗る。\\n4. 混ぜた生地をたこ焼き器の穴に流し入れ、たこ焼きを焼く。\\n5. たこ焼きが焼けたら、竹串などでひっくり返し、裏返して焼く。\\n6. たこ焼きがふっくらと焼けたら、青のり、かつお節、天かすなどをトッピングする。\\n7. ソースをかけて完成。\\n\\nお好みでマヨネーズや青海苔などをトッピングしても美味しいです。ぜひお試しください！'"
      ]
     },
     "execution_count": 24,
     "metadata": {},
     "output_type": "execute_result"
    }
   ],
   "source": [
    "response_text = resp.content\n",
    "response_text"
   ]
  },
  {
   "cell_type": "markdown",
   "id": "f1fd373b-958a-4d7d-b2b7-c44851abbb03",
   "metadata": {},
   "source": [
    "# プロンプトエンジニアリング"
   ]
  },
  {
   "cell_type": "code",
   "execution_count": 26,
   "id": "ab333d9b-17a6-48b0-8b01-fb0ccc712ceb",
   "metadata": {},
   "outputs": [],
   "source": [
    "from langchain.llms import OpenAI\n",
    "from langchain.prompts import FewShotPromptTemplate, PromptTemplate"
   ]
  },
  {
   "cell_type": "code",
   "execution_count": 27,
   "id": "f082f706-24f0-41e2-a5b1-510fa2d24a57",
   "metadata": {},
   "outputs": [],
   "source": [
    "examples = [{\n",
    "    \"input\": \"LangChainはLLMの実利用をより柔軟に簡易に行うためのツール群です\",\n",
    "    \"output\": \"LangChainは、LLMの実利用をより柔軟に、簡易に行うためのツール群です。\"\n",
    "}]\n",
    "\n",
    "prompt = PromptTemplate(\n",
    "    input_variables=[\"input\", \"output\"],\n",
    "    template=\"入力: {input}\\n出力: {output}\",\n",
    ")\n",
    "\n",
    "few_shot_prompt = FewShotPromptTemplate(\n",
    "    ## 入力例と出力例を定義\n",
    "    examples=examples,\n",
    "    ## プロンプトテンプレートを指定\n",
    "    example_prompt=prompt,\n",
    "    ## 指示を追加\n",
    "    prefix=\"以下の句読点の抜けた入力に句読点を追加してください。追加して良い句読点は「、」「。」のみです。他の句読点は追加しないでください。\",\n",
    "    ## 出力例の入力変数を定義\n",
    "    suffix=\"入力: {input_string}\\n出力:\",\n",
    "    ## FewShotPromptTemplateの入力変数を設定\n",
    "    input_variables=[\"input_string\"],\n",
    ")\n",
    "\n",
    "llm = OpenAI()"
   ]
  },
  {
   "cell_type": "code",
   "execution_count": 30,
   "id": "06485f6d-72d0-487c-b512-0dbfee77f6a6",
   "metadata": {},
   "outputs": [],
   "source": [
    "formatted_prompt = few_shot_prompt.format(\n",
    "    input_string=\"私は今日木曽路に行ってお昼ご飯を家族で食べますその後に息子と電車に乗って錦糸町に行きます\"\n",
    ")\n",
    "\n",
    "result = llm.predict(formatted_prompt)"
   ]
  },
  {
   "cell_type": "code",
   "execution_count": 31,
   "id": "b5891458-8f52-41ea-b75b-41c92203e508",
   "metadata": {},
   "outputs": [
    {
     "name": "stdout",
     "output_type": "stream",
     "text": [
      "formatted_prompt:  以下の句読点の抜けた入力に句読点を追加してください。追加して良い句読点は「、」「。」のみです。他の句読点は追加しないでください。\n",
      "\n",
      "入力: LangChainはLLMの実利用をより柔軟に簡易に行うためのツール群です\n",
      "出力: LangChainは、LLMの実利用をより柔軟に、簡易に行うためのツール群です。\n",
      "\n",
      "入力: 私は今日木曽路に行ってお昼ご飯を家族で食べますその後に息子と電車に乗って錦糸町に行きます\n",
      "出力:\n",
      "result:   私は、今日木曽路に行って、お昼ご飯を家族で食べます。その後に、息子と電車に乗って、錦糸町に行きます。\n"
     ]
    }
   ],
   "source": [
    "print(\"formatted_prompt: \", formatted_prompt)\n",
    "print(\"result: \", result)"
   ]
  },
  {
   "cell_type": "markdown",
   "id": "28b9d0b7-b1c4-4baf-949f-0999b84ff78c",
   "metadata": {},
   "source": [
    "# 結果を日時形式で受け取る"
   ]
  },
  {
   "cell_type": "code",
   "execution_count": 32,
   "id": "c67cad34-43ca-4921-9781-8cdb76b5a617",
   "metadata": {},
   "outputs": [],
   "source": [
    "from langchain import PromptTemplate\n",
    "from langchain.chat_models import ChatOpenAI\n",
    "from langchain.output_parsers import DatetimeOutputParser # 出力を日時形式に変換するモジュール\n",
    "from langchain.schema import HumanMessage"
   ]
  },
  {
   "cell_type": "code",
   "execution_count": 45,
   "id": "76b27627-67e3-49bf-a3af-1f2ab95a981c",
   "metadata": {},
   "outputs": [
    {
     "name": "stdout",
     "output_type": "stream",
     "text": [
      "2017-03-03 00:00:00\n"
     ]
    }
   ],
   "source": [
    "output_parser = DatetimeOutputParser() # DatetimeOutputParserを初期化\n",
    "\n",
    "chat = ChatOpenAI(model=\"gpt-4\")\n",
    "prompt = PromptTemplate.from_template(\"{product}の発売日を教えて\")\n",
    "result = chat([\n",
    "    HumanMessage(content=prompt.format(product=\"Nintendo switch\")),\n",
    "    HumanMessage(content=output_parser.get_format_instructions()),\n",
    "])\n",
    "\n",
    "output = output_parser.parse(result.content)\n",
    "print(output)"
   ]
  },
  {
   "cell_type": "markdown",
   "id": "e77cb2ab-f6d9-4206-89b6-5f2166654226",
   "metadata": {},
   "source": [
    "# 出力形式を自分で定義する（エラーが出た場合に修正させる）"
   ]
  },
  {
   "cell_type": "code",
   "execution_count": 58,
   "id": "57b900b2-42ee-4455-8980-eefdafc14162",
   "metadata": {},
   "outputs": [],
   "source": [
    "from langchain.chat_models import ChatOpenAI\n",
    "from langchain.output_parsers import OutputFixingParser\n",
    "from langchain.output_parsers import PydanticOutputParser\n",
    "from langchain.schema import HumanMessage\n",
    "from pydantic import BaseModel, Field, field_validator"
   ]
  },
  {
   "cell_type": "code",
   "execution_count": 83,
   "id": "ede382ce-7c2c-4197-ac2d-52d11f995bd6",
   "metadata": {},
   "outputs": [],
   "source": [
    "chat = ChatOpenAI(model=\"gpt-4\")\n",
    "\n",
    "class Smartphone(BaseModel):\n",
    "    release_date: str = Field(description=\"スマートフォンの発売日\")\n",
    "    screen_inches: float = Field(description=\"スマートフォンの画面サイズ（インチ）\")\n",
    "    os_installed: str = Field(description=\"スマートフォンにインストールされているOS\")\n",
    "    modelname: str = Field(description=\"スマートフォンのモデル名\")\n",
    "\n",
    "    @field_validator(\"screen_inches\") # validatorを使って値を検証\n",
    "    def validate_screen_inches(cls, field):\n",
    "        if field <= 0: # screen_inchesが0以下の場合はエラーを出す\n",
    "            raise ValueError(\"Screen inches must be a positive number\")\n",
    "        return field\n",
    "\n",
    "### エラーが出力されたときに修正を指示\n",
    "parser = OutputFixingParser.from_llm(\n",
    "    # PydanticOutputParserをSmartphoneクラスで初期化\n",
    "    parser = PydanticOutputParser(pydantic_object=Smartphone),\n",
    "    # 修正に使用する言語モデルを設定\n",
    "    llm = chat,\n",
    ")\n",
    "\n",
    "# parser = PydanticOutputParser(pydantic_object=Smartphone)\n",
    "\n",
    "result = chat([\n",
    "    HumanMessage(content=\"windowsでリリースしたスマートフォンを1個挙げて\"),\n",
    "    HumanMessage(content=parser.get_format_instructions()),\n",
    "])"
   ]
  },
  {
   "cell_type": "code",
   "execution_count": 84,
   "id": "36d85233-a7d5-43f8-97f2-b8ef7abb09e8",
   "metadata": {},
   "outputs": [
    {
     "name": "stdout",
     "output_type": "stream",
     "text": [
      "モデル名: Lumia 950\n",
      "画面サイズ: 5.2インチ\n",
      "OS: Windows 10 Mobile\n",
      "発売日: 2015-10-06\n"
     ]
    }
   ],
   "source": [
    "parsed_result = parser.parse(result.content)\n",
    "print(f\"モデル名: {parsed_result.modelname}\")\n",
    "print(f\"画面サイズ: {parsed_result.screen_inches}インチ\")\n",
    "print(f\"OS: {parsed_result.os_installed}\")\n",
    "print(f\"発売日: {parsed_result.release_date}\")"
   ]
  },
  {
   "cell_type": "code",
   "execution_count": null,
   "id": "85a40bab-8b56-4f33-9edf-26b0bfdd9f79",
   "metadata": {},
   "outputs": [],
   "source": []
  }
 ],
 "metadata": {
  "kernelspec": {
   "display_name": "Python 3 (ipykernel)",
   "language": "python",
   "name": "python3"
  },
  "language_info": {
   "codemirror_mode": {
    "name": "ipython",
    "version": 3
   },
   "file_extension": ".py",
   "mimetype": "text/x-python",
   "name": "python",
   "nbconvert_exporter": "python",
   "pygments_lexer": "ipython3",
   "version": "3.11.5"
  }
 },
 "nbformat": 4,
 "nbformat_minor": 5
}
