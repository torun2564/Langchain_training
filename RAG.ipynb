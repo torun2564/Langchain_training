{
 "cells": [
  {
   "cell_type": "markdown",
   "id": "a1ef63ae-fba0-4596-90a2-a7428f804f38",
   "metadata": {},
   "source": [
    "# 1. 与えられたPDFを元に回答するチャットBotを作成"
   ]
  },
  {
   "cell_type": "markdown",
   "id": "34e92702-590c-4aef-aef0-e96adeee17b2",
   "metadata": {},
   "source": [
    "## 1-1. PDFの読み込み"
   ]
  },
  {
   "cell_type": "code",
   "execution_count": 3,
   "id": "4445b1a3-fec2-4031-80ec-7446945c579b",
   "metadata": {},
   "outputs": [
    {
     "name": "stdout",
     "output_type": "stream",
     "text": [
      "ドキュメントの数: 12\n",
      "1つ目のドキュメントの内容: 飛行車に関する法制度\n",
      "【注意】この文章は、架空の飛行車を対象にした法律の自動生成例です。\n",
      "\n",
      "1つ目のドキュメントのメタデータ: {'source': 'sample.pdf', 'file_path': 'sample.pdf', 'page': 0, 'total_pages': 12, 'format': 'PDF 1.4', 'title': '飛行車に関する法制度', 'author': '', 'subject': '', 'keywords': '', 'creator': '', 'producer': 'macOS バージョン13.5（ビルド22G74） Quartz PDFContext, AppendMode 1.1', 'creationDate': '', 'modDate': \"D:20230819044808Z00'00'\", 'trapped': ''}\n"
     ]
    }
   ],
   "source": [
    "from langchain.document_loaders import PyMuPDFLoader\n",
    "\n",
    "loader = PyMuPDFLoader(\"sample.pdf\")\n",
    "documents = loader.load()\n",
    "print(f\"ドキュメントの数: {len(documents)}\") # ページ数\n",
    "print(f\"1つ目のドキュメントの内容: {documents[0].page_content}\") # 最初のページの内容\n",
    "print(f\"1つ目のドキュメントのメタデータ: {documents[0].metadata}\") #最初のページのメタデータ"
   ]
  },
  {
   "cell_type": "markdown",
   "id": "07465ad5-3ab0-4d8d-9551-6569a5f04449",
   "metadata": {},
   "source": [
    "## 1-2. 文章の分割"
   ]
  },
  {
   "cell_type": "code",
   "execution_count": 7,
   "id": "0cdaaf1d-15c9-437a-b88f-be562514fd83",
   "metadata": {},
   "outputs": [
    {
     "name": "stdout",
     "output_type": "stream",
     "text": [
      "分割後のドキュメント数: 56\n"
     ]
    }
   ],
   "source": [
    "from langchain.document_loaders import PyMuPDFLoader\n",
    "from langchain.text_splitter import SpacyTextSplitter\n",
    "\n",
    "loader = PyMuPDFLoader(\"sample.pdf\")\n",
    "documents = loader.load()\n",
    "\n",
    "text_splitter = SpacyTextSplitter(\n",
    "    chunk_size=300, # 文書を分割するサイズ\n",
    "    pipeline=\"ja_core_news_sm\" # 分割に使用する言語モデルを選択\n",
    ")\n",
    "splitted_documents = text_splitter.split_documents(documents)\n",
    "\n",
    "print(f\"分割後のドキュメント数: {len(splitted_documents)}\")"
   ]
  },
  {
   "cell_type": "markdown",
   "id": "30c10d91-981d-4537-8f7d-a0107699acc0",
   "metadata": {},
   "source": [
    "## 1-3. 分割した文章をベクトル化し、データベースに保存"
   ]
  },
  {
   "cell_type": "code",
   "execution_count": 5,
   "id": "0da7597b-78ef-43e3-8a7b-03dc57598520",
   "metadata": {},
   "outputs": [
    {
     "name": "stdout",
     "output_type": "stream",
     "text": [
      "データベースの作成が完了しました\n"
     ]
    }
   ],
   "source": [
    "from langchain.document_loaders import PyMuPDFLoader\n",
    "from langchain_openai import OpenAIEmbeddings\n",
    "from langchain.text_splitter import SpacyTextSplitter\n",
    "from langchain.vectorstores import Chroma\n",
    "\n",
    "### PDF読み込み\n",
    "loader = PyMuPDFLoader(\"sample.pdf\")\n",
    "documents = loader.load()\n",
    "\n",
    "### 文章の分割\n",
    "text_splitter = SpacyTextSplitter(\n",
    "    chunk_size=300, # 文書を分割するサイズ\n",
    "    pipeline=\"ja_core_news_sm\" # 分割に使用する言語モデルを選択\n",
    ")\n",
    "splitted_documents = text_splitter.split_documents(documents)\n",
    "\n",
    "### Embeddingモデルの指定\n",
    "embeddings = OpenAIEmbeddings(model=\"text-embedding-3-small\")\n",
    "\n",
    "### データベースにEmbedding後のデータを保存\n",
    "database = Chroma(\n",
    "    persist_directory=\"./.data\", # 永続化データの保存先を指定\n",
    "    embedding_function=embeddings\n",
    ")\n",
    "database.add_documents(splitted_documents)\n",
    "\n",
    "print(\"データベースの作成が完了しました\")"
   ]
  },
  {
   "cell_type": "markdown",
   "id": "fbafb9bf-5633-4757-b7b7-1cdac32db2b1",
   "metadata": {},
   "source": [
    "## 1-4. ベクトルデータベースで検索を実行"
   ]
  },
  {
   "cell_type": "code",
   "execution_count": 7,
   "id": "b6e174db-4e3d-4ff5-8289-d2173b15b7d7",
   "metadata": {},
   "outputs": [
    {
     "name": "stdout",
     "output_type": "stream",
     "text": [
      "ドキュメントの数: 4\n",
      "ドキュメントの内容: 飛行車速度制限法\n",
      "第1条（目的）\n",
      "本法は、飛行車の飛行安全及び一般公共の利益を確保するため、飛行車の飛行速度に関する\n",
      "基準を定めることを目的とする。\n",
      "\n",
      "\n",
      "\n",
      "\n",
      "第2条（定義）\n",
      "本法において「飛行車」とは、地上及び空中を移動する能力を有する車両を指す。\n",
      "\n",
      "\n",
      "\n",
      "\n",
      "第3条（一般的な速度制限）\n",
      "1.\n",
      "都市部において飛行車が飛行する場合の最大速度は、時速150キロメートルとする。\n",
      "\n",
      "\n",
      "2.\n",
      "都市部以外の地域において飛行車が飛行する場合の最大速度は、時速250キロメート\n",
      "ルとする。\n",
      "\n",
      "\n",
      "3.\n",
      "特定の地域や施設の上空、または特定の飛行コース上では、別途速度制限が設けられ\n",
      "ることがある。\n",
      "ドキュメントの内容: 飛行車速度制限法\n",
      "第1条（目的）\n",
      "本法は、飛行車の飛行安全及び一般公共の利益を確保するため、飛行車の飛行速度に関する\n",
      "基準を定めることを目的とする。\n",
      "\n",
      "\n",
      "\n",
      "\n",
      "第2条（定義）\n",
      "本法において「飛行車」とは、地上及び空中を移動する能力を有する車両を指す。\n",
      "\n",
      "\n",
      "\n",
      "\n",
      "第3条（一般的な速度制限）\n",
      "1.\n",
      "都市部において飛行車が飛行する場合の最大速度は、時速150キロメートルとする。\n",
      "\n",
      "\n",
      "2.\n",
      "都市部以外の地域において飛行車が飛行する場合の最大速度は、時速250キロメート\n",
      "ルとする。\n",
      "\n",
      "\n",
      "3.\n",
      "特定の地域や施設の上空、または特定の飛行コース上では、別途速度制限が設けられ\n",
      "ることがある。\n",
      "ドキュメントの内容: 飛行車速度制限法\n",
      "第1条（目的）\n",
      "本法は、飛行車の飛行安全及び一般公共の利益を確保するため、飛行車の飛行速度に関する\n",
      "基準を定めることを目的とする。\n",
      "\n",
      "\n",
      "\n",
      "\n",
      "第2条（定義）\n",
      "本法において「飛行車」とは、地上及び空中を移動する能力を有する車両を指す。\n",
      "\n",
      "\n",
      "\n",
      "\n",
      "第3条（一般的な速度制限）\n",
      "1.\n",
      "都市部において飛行車が飛行する場合の最大速度は、時速150キロメートルとする。\n",
      "\n",
      "\n",
      "2.\n",
      "都市部以外の地域において飛行車が飛行する場合の最大速度は、時速250キロメート\n",
      "ルとする。\n",
      "\n",
      "\n",
      "3.\n",
      "特定の地域や施設の上空、または特定の飛行コース上では、別途速度制限が設けられ\n",
      "ることがある。\n",
      "ドキュメントの内容: 第3条（一般的な速度制限）\n",
      "1.\n",
      "都市部において飛行車が飛行する場合の最大速度は、時速150キロメートルとする。\n",
      "\n",
      "\n",
      "2.\n",
      "都市部以外の地域において飛行車が飛行する場合の最大速度は、時速250キロメート\n",
      "ルとする。\n",
      "\n",
      "\n",
      "3.\n",
      "特定の地域や施設の上空、または特定の飛行コース上では、別途速度制限が設けられ\n",
      "ることがある。\n",
      "\n",
      "\n",
      "\n",
      "\n",
      "第4条（特例の速度制限）\n",
      "1.\n",
      "緊急車両、公的機関の車両、及び関連する公的任務を遂行する車両については、第3条\n",
      "の制限を超える速度での飛行が許可される。\n",
      "\n",
      "\n",
      "2.\n",
      "第1項の特例を適用する場合、事前または事後に関連する機関への届け出が必要とす\n",
      "る。\n"
     ]
    }
   ],
   "source": [
    "documents = database.similarity_search(\"飛行機の最高速度は？\") # 類似度が近い文章を検索し、Documentをリストで返す\n",
    "\n",
    "print(f\"ドキュメントの数: {len(documents)}\")\n",
    "for document in documents:\n",
    "    print(f\"ドキュメントの内容: {document.page_content}\")"
   ]
  },
  {
   "cell_type": "markdown",
   "id": "2bf37d95-c650-41ca-b964-20bc8fc654e8",
   "metadata": {},
   "source": [
    "## 1-5. 検索結果と質問を組み合わせて質問に回答"
   ]
  },
  {
   "cell_type": "code",
   "execution_count": 12,
   "id": "27d46159-e229-4ec1-91f7-f8330f307138",
   "metadata": {},
   "outputs": [
    {
     "name": "stdout",
     "output_type": "stream",
     "text": [
      "都市部においては時速150キロメートル、都市部以外の地域においては時速250キロメートルとなります。\n"
     ]
    }
   ],
   "source": [
    "from langchain_openai import ChatOpenAI\n",
    "from langchain_openai import OpenAIEmbeddings\n",
    "from langchain.prompts import PromptTemplate\n",
    "from langchain.schema import HumanMessage\n",
    "from langchain.vectorstores import Chroma\n",
    "\n",
    "### Embeddingモデルの指定\n",
    "embeddings = OpenAIEmbeddings(model=\"text-embedding-3-small\")\n",
    "\n",
    "### データベースにEmbedding後のデータを保存\n",
    "database = Chroma(\n",
    "    persist_directory=\"./.data\", # 永続化データの保存先を指定\n",
    "    embedding_function=embeddings\n",
    ")\n",
    "\n",
    "### 質問とその類似するDocumentを検索し、変数に格納\n",
    "query = \"飛行車の最高速度は？\"\n",
    "documents = database.similarity_search(query)\n",
    "documents_string = \"\" #ドキュメントの内容を格納する変数を初期化\n",
    "for document in documents:\n",
    "    documents_string += f\"\"\"\n",
    "    ------------------------------\n",
    "    {document.page_content}\n",
    "    \"\"\"\n",
    "\n",
    "### プロンプトの設定\n",
    "prompt = PromptTemplate(\n",
    "    template=\"\"\"文章を元に質問に答えてください。\n",
    "\n",
    "    文章：\n",
    "    {document}\n",
    "\n",
    "    質問：{query}\n",
    "    \"\"\",\n",
    "    input_variables=[\"document\", \"query\"]\n",
    ")\n",
    "\n",
    "### チャットBotの設定と回答の取得\n",
    "chat = ChatOpenAI(model=\"gpt-3.5-turbo\")\n",
    "result = chat([\n",
    "    HumanMessage(content=prompt.format(document=documents_string, query=query)),\n",
    "])\n",
    "\n",
    "print(result.content)\n"
   ]
  },
  {
   "cell_type": "markdown",
   "id": "e2dcf6d6-539b-4661-afb5-fa10ca5f41f3",
   "metadata": {},
   "source": [
    "# 2. RetrievalQAを使ってQAシステムの構築を楽にする"
   ]
  },
  {
   "cell_type": "code",
   "execution_count": 17,
   "id": "a45dab14-746f-4fc4-92fa-44cc11fd9081",
   "metadata": {},
   "outputs": [
    {
     "name": "stdout",
     "output_type": "stream",
     "text": [
      "飛行車の最高速度は、都市部において時速150キロメートル、都市部以外の地域において時速250キロメートルとなります。\n",
      "[Document(page_content='飛行車速度制限法\\n第1条（目的）\\n本法は、飛行車の飛行安全及び一般公共の利益を確保するため、飛行車の飛行速度に関する\\n基準を定めることを目的とする。\\n\\n\\n\\n\\n第2条（定義）\\n本法において「飛行車」とは、地上及び空中を移動する能力を有する車両を指す。\\n\\n\\n\\n\\n第3条（一般的な速度制限）\\n1.\\n都市部において飛行車が飛行する場合の最大速度は、時速150キロメートルとする。\\n\\n\\n2.\\n都市部以外の地域において飛行車が飛行する場合の最大速度は、時速250キロメート\\nルとする。\\n\\n\\n3.\\n特定の地域や施設の上空、または特定の飛行コース上では、別途速度制限が設けられ\\nることがある。', metadata={'author': '', 'creationDate': '', 'creator': '', 'file_path': 'sample.pdf', 'format': 'PDF 1.4', 'keywords': '', 'modDate': \"D:20230819044808Z00'00'\", 'page': 3, 'producer': 'macOS バージョン13.5（ビルド22G74） Quartz PDFContext, AppendMode 1.1', 'source': 'sample.pdf', 'subject': '', 'title': '飛行車に関する法制度', 'total_pages': 12, 'trapped': ''}), Document(page_content='飛行車速度制限法\\n第1条（目的）\\n本法は、飛行車の飛行安全及び一般公共の利益を確保するため、飛行車の飛行速度に関する\\n基準を定めることを目的とする。\\n\\n\\n\\n\\n第2条（定義）\\n本法において「飛行車」とは、地上及び空中を移動する能力を有する車両を指す。\\n\\n\\n\\n\\n第3条（一般的な速度制限）\\n1.\\n都市部において飛行車が飛行する場合の最大速度は、時速150キロメートルとする。\\n\\n\\n2.\\n都市部以外の地域において飛行車が飛行する場合の最大速度は、時速250キロメート\\nルとする。\\n\\n\\n3.\\n特定の地域や施設の上空、または特定の飛行コース上では、別途速度制限が設けられ\\nることがある。', metadata={'author': '', 'creationDate': '', 'creator': '', 'file_path': 'sample.pdf', 'format': 'PDF 1.4', 'keywords': '', 'modDate': \"D:20230819044808Z00'00'\", 'page': 3, 'producer': 'macOS バージョン13.5（ビルド22G74） Quartz PDFContext, AppendMode 1.1', 'source': 'sample.pdf', 'subject': '', 'title': '飛行車に関する法制度', 'total_pages': 12, 'trapped': ''}), Document(page_content='飛行車速度制限法\\n第1条（目的）\\n本法は、飛行車の飛行安全及び一般公共の利益を確保するため、飛行車の飛行速度に関する\\n基準を定めることを目的とする。\\n\\n\\n\\n\\n第2条（定義）\\n本法において「飛行車」とは、地上及び空中を移動する能力を有する車両を指す。\\n\\n\\n\\n\\n第3条（一般的な速度制限）\\n1.\\n都市部において飛行車が飛行する場合の最大速度は、時速150キロメートルとする。\\n\\n\\n2.\\n都市部以外の地域において飛行車が飛行する場合の最大速度は、時速250キロメート\\nルとする。\\n\\n\\n3.\\n特定の地域や施設の上空、または特定の飛行コース上では、別途速度制限が設けられ\\nることがある。', metadata={'author': '', 'creationDate': '', 'creator': '', 'file_path': 'sample.pdf', 'format': 'PDF 1.4', 'keywords': '', 'modDate': \"D:20230819044808Z00'00'\", 'page': 3, 'producer': 'macOS バージョン13.5（ビルド22G74） Quartz PDFContext, AppendMode 1.1', 'source': 'sample.pdf', 'subject': '', 'title': '飛行車に関する法制度', 'total_pages': 12, 'trapped': ''}), Document(page_content='第3条（一般的な速度制限）\\n1.\\n都市部において飛行車が飛行する場合の最大速度は、時速150キロメートルとする。\\n\\n\\n2.\\n都市部以外の地域において飛行車が飛行する場合の最大速度は、時速250キロメート\\nルとする。\\n\\n\\n3.\\n特定の地域や施設の上空、または特定の飛行コース上では、別途速度制限が設けられ\\nることがある。\\n\\n\\n\\n\\n第4条（特例の速度制限）\\n1.\\n緊急車両、公的機関の車両、及び関連する公的任務を遂行する車両については、第3条\\nの制限を超える速度での飛行が許可される。\\n\\n\\n2.\\n第1項の特例を適用する場合、事前または事後に関連する機関への届け出が必要とす\\nる。', metadata={'author': '', 'creationDate': '', 'creator': '', 'file_path': 'sample.pdf', 'format': 'PDF 1.4', 'keywords': '', 'modDate': \"D:20230819044808Z00'00'\", 'page': 3, 'producer': 'macOS バージョン13.5（ビルド22G74） Quartz PDFContext, AppendMode 1.1', 'source': 'sample.pdf', 'subject': '', 'title': '飛行車に関する法制度', 'total_pages': 12, 'trapped': ''})]\n"
     ]
    }
   ],
   "source": [
    "from langchain.chains import RetrievalQA\n",
    "from langchain_openai import ChatOpenAI\n",
    "from langchain_openai import OpenAIEmbeddings\n",
    "from langchain.vectorstores import Chroma\n",
    "\n",
    "### ChatGPTモデルの指定\n",
    "chat = ChatOpenAI(model=\"gpt-3.5-turbo\")\n",
    "\n",
    "### Embeddingモデルの指定\n",
    "embeddings = OpenAIEmbeddings(model=\"text-embedding-3-small\")\n",
    "\n",
    "### データベースを呼び出し、Retrieverに変換\n",
    "database = Chroma(\n",
    "    persist_directory=\"./.data\", # 永続化データの保存先を指定\n",
    "    embedding_function=embeddings\n",
    ")\n",
    "retriever = database.as_retriever()\n",
    "\n",
    "### RetrievalQAを設定\n",
    "qa = RetrievalQA.from_llm(\n",
    "    llm=chat, # ChatGPTモデルを指定\n",
    "    retriever=retriever, # Retrieverを指定\n",
    "    return_source_documents=True, # 返答にソースドキュメントを含めるかどうかを指定\n",
    ")\n",
    "\n",
    "### 質問と回答を取得\n",
    "result = qa(\"飛行車の最高速度を教えて\")\n",
    "\n",
    "print(result[\"result\"])\n",
    "print(result[\"source_documents\"])"
   ]
  },
  {
   "cell_type": "markdown",
   "id": "270a67fd-f7d0-4295-89ad-2b8c6c646614",
   "metadata": {},
   "source": [
    "# 3. 用意されたRetrieversを使ってWikipediaを情報源にする"
   ]
  },
  {
   "cell_type": "code",
   "execution_count": 20,
   "id": "9e649c50-6189-45e9-877e-b8b027290fea",
   "metadata": {},
   "outputs": [
    {
     "name": "stdout",
     "output_type": "stream",
     "text": [
      "検索結果: 2件\n",
      "---------------取得したメタデータ---------------\n",
      "{'title': '人工知能', 'summary': '人工知能（じんこうちのう、英: artificial intelligence）、AI（エーアイ）とは、「『計算（computation）』という概念と『コンピュータ（computer）』という道具を用いて『知能』を研究する計算機科学（computer science）の一分野」を指す語。「言語の理解や推論、問題解決などの知的行動を人間に代わってコンピュータに行わせる技術」、または、「計算機（コンピュータ）による知的な情報処理システムの設計や実現に関する研究分野」ともされる。大学でAI教育研究は、情報工学科や情報理工学科コンピュータ科学専攻などの組織で行われている（工学〔エンジニアリング〕とは、数学・化学・物理学などの基礎科学を工業生産に応用する学問）。\\n『日本大百科全書(ニッポニカ)』の解説で、情報工学者・通信工学者の佐藤理史は次のように述べている。\\n\\n1200の大学で使用された事例がある計算機科学の教科書『エージェントアプローチ人工知能』は、最終章最終節「結論」で、未来はどちらへ向かうのだろうか？と述べて次のように続ける。SF作家らは、筋書きを面白くするためにディストピア的未来を好む傾向がある。しかし今までのAIや他の革命的な科学技術（出版・配管・航空旅行・電話システム）について言えば、これらの科学技術は全て好影響を与えてきた。同時にこれらは不利な階級へ悪影響を与えており、われわれは悪影響を最小限に抑えるために投資するのがよいだろう。論理的限界まで改良されたAIが、従来の革命的技術と違って人間の至高性を脅かす可能性もある。前掲書の「結論」は、次の文で締めくくられている。', 'source': 'https://ja.wikipedia.org/wiki/%E4%BA%BA%E5%B7%A5%E7%9F%A5%E8%83%BD'}\n",
      "---------------取得したテキスト---------------\n",
      "人工知能（じんこうちのう、英: artificial intelligence）、AI（エーアイ）とは、「『計算（computation）』という概念と『コンピュータ（computer）』という道具を\n",
      "---------------取得したメタデータ---------------\n",
      "{'title': '機械学習', 'summary': '機械学習（きかいがくしゅう、英: machine learning）とは、経験からの学習により自動で改善するコンピューターアルゴリズムもしくはその研究領域で、人工知能の一種であるとみなされている。\\n典型的には「訓練データ」もしくは「学習データ」と呼ばれるデータを使って学習し、学習結果を使って何らかのタスクをこなすものとされる。例えば過去のスパムメールを訓練データとして用いて学習し、スパムフィルタリングというタスクをこなす、といったものである。\\n\\n', 'source': 'https://ja.wikipedia.org/wiki/%E6%A9%9F%E6%A2%B0%E5%AD%A6%E7%BF%92'}\n",
      "---------------取得したテキスト---------------\n",
      "機械学習（きかいがくしゅう、英: machine learning）とは、経験からの学習により自動で改善するコンピューターアルゴリズムもしくはその研究領域で、人工知能の一種であるとみなされている。\n",
      "典\n",
      "---------------返答---------------\n",
      "生成AIは、人工知能の一分野であり、自然なデータを生成するアルゴリズムやモデルを指します。生成AIは、画像、音声、文章などのデータを生成することができ、例えばGAN（Generative Adversarial Networks）やVAE（Variational Autoencoders）などがその一例です。これらのモデルは訓練データから学習し、新しいデータを生成する能力を持っています。\n"
     ]
    }
   ],
   "source": [
    "from langchain.chains import RetrievalQA\n",
    "from langchain_openai import ChatOpenAI\n",
    "from langchain.retrievers import WikipediaRetriever\n",
    "\n",
    "### ChatGPTモデルの指定\n",
    "chat = ChatOpenAI(model=\"gpt-3.5-turbo\")\n",
    "\n",
    "### WikipediaRetrieverを設定\n",
    "retriever = WikipediaRetriever(\n",
    "    lang=\"ja\", # 対象言語を指定\n",
    "    doc_content_chars_max=500, # 取得するテキストの最大文字数を指定\n",
    "    top_k_results=2, # 検索結果の上位何件を取得するかを指定\n",
    ")\n",
    "\n",
    "### RetrievalQAの設定と実行\n",
    "chain = RetrievalQA.from_llm(\n",
    "    llm=chat, # ChatGPTモデルを指定\n",
    "    retriever=retriever, # Retrieverを指定\n",
    "    return_source_documents=True, # 返答にソースドキュメントを含めるかどうかを指定\n",
    ")\n",
    "result = chain(\"生成AIとは？\")\n",
    "\n",
    "### 結果の表示\n",
    "source_documents = result[\"source_documents\"]\n",
    "print(f\"検索結果: {len(source_documents)}件\")\n",
    "for document in source_documents:\n",
    "    print(\"---------------取得したメタデータ---------------\")\n",
    "    print(document.metadata)\n",
    "    print(\"---------------取得したテキスト---------------\")\n",
    "    print(document.page_content[:100])\n",
    "print(\"---------------返答---------------\")\n",
    "print(result[\"result\"])"
   ]
  },
  {
   "cell_type": "markdown",
   "id": "b99378dc-438b-4377-a1db-d44fc48b8793",
   "metadata": {},
   "source": [
    "## 3-2. Retrieverでどのような検索を行うか指示する"
   ]
  },
  {
   "cell_type": "code",
   "execution_count": 24,
   "id": "e5f8fef2-7fb7-4a8a-8c3b-2ed745753b28",
   "metadata": {},
   "outputs": [
    {
     "name": "stdout",
     "output_type": "stream",
     "text": [
      "[Document(page_content='人工知能（じんこうちのう、英: artificial intelligence）、AI（エーアイ）とは、「『計算（computation）』という概念と『コンピュータ（computer）』という道具を用いて『知能』を研究する計算機科学（computer science）の一分野」を指す語。「言語の理解や推論、問題解決などの知的行動を人間に代わってコンピュータに行わせる技術」、または、「計算機（コンピュータ）による知的な情報処理システムの設計や実現に関する研究分野」ともされる。大学でAI教育研究は、情報工学科や情報理工学科コンピュータ科学専攻などの組織で行われている（工学〔エンジニアリング〕とは、数学・化学・物理学などの基礎科学を工業生産に応用する学問）。\\n『日本大百科全書(ニッポニカ)』の解説で、情報工学者・通信工学者の佐藤理史は次のように述べている。\\n\\n1200の大学で使用された事例がある計算機科学の教科書『エージェントアプローチ人工知能』は、最終章最終節「結論」で、未来はどちらへ向かうのだろうか？と述べて次のように続ける。SF作家らは、筋書きを面白くするためにディストピア的未来を好', metadata={'title': '人工知能', 'summary': '人工知能（じんこうちのう、英: artificial intelligence）、AI（エーアイ）とは、「『計算（computation）』という概念と『コンピュータ（computer）』という道具を用いて『知能』を研究する計算機科学（computer science）の一分野」を指す語。「言語の理解や推論、問題解決などの知的行動を人間に代わってコンピュータに行わせる技術」、または、「計算機（コンピュータ）による知的な情報処理システムの設計や実現に関する研究分野」ともされる。大学でAI教育研究は、情報工学科や情報理工学科コンピュータ科学専攻などの組織で行われている（工学〔エンジニアリング〕とは、数学・化学・物理学などの基礎科学を工業生産に応用する学問）。\\n『日本大百科全書(ニッポニカ)』の解説で、情報工学者・通信工学者の佐藤理史は次のように述べている。\\n\\n1200の大学で使用された事例がある計算機科学の教科書『エージェントアプローチ人工知能』は、最終章最終節「結論」で、未来はどちらへ向かうのだろうか？と述べて次のように続ける。SF作家らは、筋書きを面白くするためにディストピア的未来を好む傾向がある。しかし今までのAIや他の革命的な科学技術（出版・配管・航空旅行・電話システム）について言えば、これらの科学技術は全て好影響を与えてきた。同時にこれらは不利な階級へ悪影響を与えており、われわれは悪影響を最小限に抑えるために投資するのがよいだろう。論理的限界まで改良されたAIが、従来の革命的技術と違って人間の至高性を脅かす可能性もある。前掲書の「結論」は、次の文で締めくくられている。', 'source': 'https://ja.wikipedia.org/wiki/%E4%BA%BA%E5%B7%A5%E7%9F%A5%E8%83%BD'}), Document(page_content='機械学習（きかいがくしゅう、英: machine learning）とは、経験からの学習により自動で改善するコンピューターアルゴリズムもしくはその研究領域で、人工知能の一種であるとみなされている。\\n典型的には「訓練データ」もしくは「学習データ」と呼ばれるデータを使って学習し、学習結果を使って何らかのタスクをこなすものとされる。例えば過去のスパムメールを訓練データとして用いて学習し、スパムフィルタリングというタスクをこなす、といったものである。\\n\\n\\n== 定義 ==\\n論者により定義が異なるものの、トム・M・ミッチェルによる下記の簡潔な定義は広く引用されている：ここでタスクとは、プログラムが解くべき課題を指し、例えば売上予測タスクであれば「明日の売上を予測せよ」といったタスクである。\\n経験はなんらかのデータとしてプログラムに与えられる。このデータを訓練データもしくは学習データといい、売上予測タスクであれば例えば「過去の経験」である今日までの売上が訓練データとして与えられる。訓練データを使ってプログラムの性能を改善する過程を、「プログラムを訓練する」もしくは「プログラムを学習させる」という。', metadata={'title': '機械学習', 'summary': '機械学習（きかいがくしゅう、英: machine learning）とは、経験からの学習により自動で改善するコンピューターアルゴリズムもしくはその研究領域で、人工知能の一種であるとみなされている。\\n典型的には「訓練データ」もしくは「学習データ」と呼ばれるデータを使って学習し、学習結果を使って何らかのタスクをこなすものとされる。例えば過去のスパムメールを訓練データとして用いて学習し、スパムフィルタリングというタスクをこなす、といったものである。\\n\\n', 'source': 'https://ja.wikipedia.org/wiki/%E6%A9%9F%E6%A2%B0%E5%AD%A6%E7%BF%92'})]\n"
     ]
    }
   ],
   "source": [
    "from langchain_openai import ChatOpenAI\n",
    "from langchain.retrievers import WikipediaRetriever, RePhraseQueryRetriever\n",
    "from langchain import LLMChain\n",
    "from langchain.prompts import PromptTemplate\n",
    "\n",
    "### WikipediaRetrieverを設定\n",
    "retriever = WikipediaRetriever(\n",
    "    lang=\"ja\", # 対象言語を指定\n",
    "    doc_content_chars_max=500, # 取得するテキストの最大文字数を指定\n",
    "    top_k_results=2, # 検索結果の上位何件を取得するかを指定\n",
    ")\n",
    "\n",
    "### プロンプトを指定\n",
    "prompt = PromptTemplate(\n",
    "    input_variables=[\"question\"],\n",
    "    template = \"\"\"以下の質問からWikipediaで検索するべきキーワードを抽出してください。\n",
    "    質問： {question}\n",
    "    \"\"\"\n",
    ")\n",
    "\n",
    "### LLMChainを指定\n",
    "llm_chain = LLMChain(\n",
    "    llm = ChatOpenAI(\n",
    "        model=\"gpt-3.5-turbo\",\n",
    "        temperature = 0,\n",
    "    ),\n",
    "    prompt=prompt,\n",
    ")\n",
    "\n",
    "### 質問を再構築するためのRetrieverを設定\n",
    "re_phrase_query_retriever = RePhraseQueryRetriever(\n",
    "    llm_chain=llm_chain,\n",
    "    retriever=retriever,\n",
    ")\n",
    "\n",
    "### 結果の表示\n",
    "documents = re_phrase_query_retriever.get_relevant_documents(\"私はうどんが好きです。ところで、生成AIとは何ですか？\")\n",
    "print(documents)"
   ]
  },
  {
   "cell_type": "code",
   "execution_count": 27,
   "id": "d037c418-7abd-442c-98db-1a877d619aeb",
   "metadata": {},
   "outputs": [
    {
     "name": "stdout",
     "output_type": "stream",
     "text": [
      "検索結果: 2件\n",
      "---------------取得したメタデータ---------------\n",
      "{'title': '人工知能', 'summary': '人工知能（じんこうちのう、英: artificial intelligence）、AI（エーアイ）とは、「『計算（computation）』という概念と『コンピュータ（computer）』という道具を用いて『知能』を研究する計算機科学（computer science）の一分野」を指す語。「言語の理解や推論、問題解決などの知的行動を人間に代わってコンピュータに行わせる技術」、または、「計算機（コンピュータ）による知的な情報処理システムの設計や実現に関する研究分野」ともされる。大学でAI教育研究は、情報工学科や情報理工学科コンピュータ科学専攻などの組織で行われている（工学〔エンジニアリング〕とは、数学・化学・物理学などの基礎科学を工業生産に応用する学問）。\\n『日本大百科全書(ニッポニカ)』の解説で、情報工学者・通信工学者の佐藤理史は次のように述べている。\\n\\n1200の大学で使用された事例がある計算機科学の教科書『エージェントアプローチ人工知能』は、最終章最終節「結論」で、未来はどちらへ向かうのだろうか？と述べて次のように続ける。SF作家らは、筋書きを面白くするためにディストピア的未来を好む傾向がある。しかし今までのAIや他の革命的な科学技術（出版・配管・航空旅行・電話システム）について言えば、これらの科学技術は全て好影響を与えてきた。同時にこれらは不利な階級へ悪影響を与えており、われわれは悪影響を最小限に抑えるために投資するのがよいだろう。論理的限界まで改良されたAIが、従来の革命的技術と違って人間の至高性を脅かす可能性もある。前掲書の「結論」は、次の文で締めくくられている。', 'source': 'https://ja.wikipedia.org/wiki/%E4%BA%BA%E5%B7%A5%E7%9F%A5%E8%83%BD'}\n",
      "---------------取得したテキスト---------------\n",
      "人工知能（じんこうちのう、英: artificial intelligence）、AI（エーアイ）とは、「『計算（computation）』という概念と『コンピュータ（computer）』という道具を用いて『知能』を研究する計算機科学（computer science）の一分野」を指す語。「言語の理解や推論、問題解決などの知的行動を人間に代わってコンピュータに行わせる技術」、または、「計算機（コン\n",
      "---------------取得したメタデータ---------------\n",
      "{'title': '機械学習', 'summary': '機械学習（きかいがくしゅう、英: machine learning）とは、経験からの学習により自動で改善するコンピューターアルゴリズムもしくはその研究領域で、人工知能の一種であるとみなされている。\\n典型的には「訓練データ」もしくは「学習データ」と呼ばれるデータを使って学習し、学習結果を使って何らかのタスクをこなすものとされる。例えば過去のスパムメールを訓練データとして用いて学習し、スパムフィルタリングというタスクをこなす、といったものである。\\n\\n', 'source': 'https://ja.wikipedia.org/wiki/%E6%A9%9F%E6%A2%B0%E5%AD%A6%E7%BF%92'}\n",
      "---------------取得したテキスト---------------\n",
      "機械学習（きかいがくしゅう、英: machine learning）とは、経験からの学習により自動で改善するコンピューターアルゴリズムもしくはその研究領域で、人工知能の一種であるとみなされている。\n",
      "典型的には「訓練データ」もしくは「学習データ」と呼ばれるデータを使って学習し、学習結果を使って何らかのタスクをこなすものとされる。例えば過去のスパムメールを訓練データとして用いて学習し、スパムフィルタリ\n"
     ]
    }
   ],
   "source": [
    "print(f\"検索結果: {len(documents)}件\")\n",
    "for document in documents:\n",
    "    print(\"---------------取得したメタデータ---------------\")\n",
    "    print(document.metadata)\n",
    "    print(\"---------------取得したテキスト---------------\")\n",
    "    print(document.page_content[:200])\n",
    "# print(\"---------------返答---------------\")\n",
    "# print(documents[\"result\"])"
   ]
  },
  {
   "cell_type": "code",
   "execution_count": null,
   "id": "ea5f74be-a981-4343-aa1d-1bdc45890146",
   "metadata": {},
   "outputs": [],
   "source": []
  }
 ],
 "metadata": {
  "kernelspec": {
   "display_name": "Python 3 (ipykernel)",
   "language": "python",
   "name": "python3"
  },
  "language_info": {
   "codemirror_mode": {
    "name": "ipython",
    "version": 3
   },
   "file_extension": ".py",
   "mimetype": "text/x-python",
   "name": "python",
   "nbconvert_exporter": "python",
   "pygments_lexer": "ipython3",
   "version": "3.11.5"
  }
 },
 "nbformat": 4,
 "nbformat_minor": 5
}
